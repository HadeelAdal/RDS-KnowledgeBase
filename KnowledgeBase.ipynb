{
 "cells": [
  {
   "cell_type": "markdown",
   "id": "8d30792e-fb5b-492a-938a-86cbbef34cb5",
   "metadata": {},
   "source": [
    "## Installing Requirements"
   ]
  },
  {
   "cell_type": "code",
   "execution_count": 1,
   "id": "08311351-7d20-44c6-83b5-1d388c27503d",
   "metadata": {
    "tags": []
   },
   "outputs": [],
   "source": [
    "!pip install --quiet PyPDF2 sentence-transformers"
   ]
  },
  {
   "cell_type": "code",
   "execution_count": 1,
   "id": "f97e7c0d-8859-4f22-8bbf-3befc36454a7",
   "metadata": {
    "tags": []
   },
   "outputs": [],
   "source": [
    "import os\n",
    "os.environ[\"TOKENIZERS_PARALLELISM\"] = \"false\"\n",
    "\n",
    "# Pip install necessary package\n",
    "!pip install --upgrade --quiet  pgvector psycopg2-binary"
   ]
  },
  {
   "cell_type": "markdown",
   "id": "d97f66de-184f-4464-8e8e-18de2ce5625b",
   "metadata": {
    "tags": []
   },
   "source": [
    "## Processing Data"
   ]
  },
  {
   "cell_type": "markdown",
   "id": "dbd05502-2446-419e-9cc0-580fc36c44c6",
   "metadata": {},
   "source": [
    "### Loading Embeddings Model"
   ]
  },
  {
   "cell_type": "code",
   "execution_count": 1,
   "id": "238b2e33-1525-4a05-8d1e-5ab17745e925",
   "metadata": {
    "tags": []
   },
   "outputs": [
    {
     "data": {
      "text/plain": [
       "<embedding_utils.TextEmbedder at 0x7f470d900ac0>"
      ]
     },
     "execution_count": 1,
     "metadata": {},
     "output_type": "execute_result"
    }
   ],
   "source": [
    "from utils import load_embeddings, embed_docs\n",
    "\n",
    "MODEL_NAME = 'avsolatorio/GIST-small-Embedding-v0'\n",
    "# MODEL_NAME = 'amazon.titan-embed-text-v1'\n",
    "\n",
    "load_embeddings(MODEL_NAME)"
   ]
  },
  {
   "cell_type": "markdown",
   "id": "f2154426-b51a-4d8f-93ec-c2453605a3b8",
   "metadata": {
    "tags": []
   },
   "source": [
    "### Creating Document embeddings"
   ]
  },
  {
   "cell_type": "code",
   "execution_count": 10,
   "id": "7b9167d3-4ad3-4540-b4fd-c7bf88c2f506",
   "metadata": {
    "tags": []
   },
   "outputs": [],
   "source": [
    "chunks, embeddings = embed_docs(\"docs/2304.02643.pdf\")"
   ]
  },
  {
   "cell_type": "code",
   "execution_count": 16,
   "id": "c0870e8c-fa37-4669-a8da-6a365bf6aa64",
   "metadata": {
    "tags": []
   },
   "outputs": [
    {
     "data": {
      "text/plain": [
       "'Segment Anything\\nAlexander Kirillov1;2;4Eric Mintun2Nikhila Ravi1;2Hanzi Mao2Chloe Rolland3Laura Gustafson3\\nTete Xiao3Spencer Whitehead Alexander C. Berg Wan-Yen Lo Piotr Doll ´ar4Ross Girshick4\\n1project lead2joint ﬁrst author3equal contribution4directional lead\\nMeta AI Research, FAIR\\n(b) Model: Segment Anything Model (SAM)promptimagevalid maskimage encoderprompt encoderlightweight mask decoder\\n(a) Task: promptable segmentationsegmentation promptimagemodelcat withblack earsvalid mask\\n(c) Data: data engine (top) & dataset (bottom)•1+ billion masks•11 million images •privacy respecting•licensed imagesannotatetraindatamodelSegment Anything 1B (SA-1B):\\nFigure 1: We aim to build a foundation model for segmentation by introducing three interconnected components: a prompt-\\nable segmentation task, a segmentation model (SAM) that powers data annotation and enables zero-shot transfer to a range\\nof tasks via prompt engineering, and a data engine for collecting SA-1B, our dataset of over 1'"
      ]
     },
     "execution_count": 16,
     "metadata": {},
     "output_type": "execute_result"
    }
   ],
   "source": [
    "chunks[0]"
   ]
  },
  {
   "cell_type": "code",
   "execution_count": 17,
   "id": "28617bb6-d31f-4a73-8ff3-b8cc535ce38c",
   "metadata": {
    "collapsed": true,
    "jupyter": {
     "outputs_hidden": true
    },
    "tags": []
   },
   "outputs": [
    {
     "data": {
      "text/plain": [
       "[-0.0713343545794487,\n",
       " -0.08012951165437698,\n",
       " 0.011772824451327324,\n",
       " -0.024659188464283943,\n",
       " 0.03870829567313194,\n",
       " 0.021776752546429634,\n",
       " 0.0551050528883934,\n",
       " -0.019230831414461136,\n",
       " 0.02544032409787178,\n",
       " 0.03552670776844025,\n",
       " 0.008509576320648193,\n",
       " -0.06481850147247314,\n",
       " 0.004323433618992567,\n",
       " 0.04762005805969238,\n",
       " 0.016339866444468498,\n",
       " 0.04421736299991608,\n",
       " 0.0414411686360836,\n",
       " 0.029023990035057068,\n",
       " 0.004141478333622217,\n",
       " 0.0060348426923155785,\n",
       " 0.023001842200756073,\n",
       " 0.0025717592798173428,\n",
       " -0.015507927164435387,\n",
       " -0.04470757022500038,\n",
       " -0.05198215693235397,\n",
       " 0.028300737962126732,\n",
       " 0.022453276440501213,\n",
       " -0.04430174082517624,\n",
       " -0.06998388469219208,\n",
       " -0.24375535547733307,\n",
       " 0.014675606042146683,\n",
       " -0.0349581316113472,\n",
       " 0.06653100252151489,\n",
       " 0.019334441050887108,\n",
       " 0.02904212847352028,\n",
       " 0.02059408649802208,\n",
       " -0.03977029025554657,\n",
       " 0.030305657535791397,\n",
       " -0.05156799033284187,\n",
       " -0.04760480672121048,\n",
       " 0.025877326726913452,\n",
       " 0.018653346225619316,\n",
       " -0.0022801461163908243,\n",
       " -0.01739807426929474,\n",
       " -0.05027398094534874,\n",
       " -0.04724970459938049,\n",
       " -0.018418241292238235,\n",
       " -0.012422863394021988,\n",
       " -0.032418470829725266,\n",
       " -0.01596963405609131,\n",
       " 0.04794001579284668,\n",
       " -0.022417176514863968,\n",
       " 0.01632920652627945,\n",
       " 0.06104692816734314,\n",
       " -0.068049855530262,\n",
       " 0.010259975679218769,\n",
       " 0.05434248596429825,\n",
       " 0.058513715863227844,\n",
       " 0.04856432229280472,\n",
       " 0.046435583382844925,\n",
       " 0.01304558850824833,\n",
       " 0.028113508597016335,\n",
       " -0.1385209709405899,\n",
       " 0.062426719814538956,\n",
       " 0.02797936275601387,\n",
       " 0.016650699079036713,\n",
       " -0.015745077282190323,\n",
       " 0.0024720225483179092,\n",
       " -0.01612330786883831,\n",
       " 0.021773366257548332,\n",
       " 0.00439056009054184,\n",
       " -0.029661118984222412,\n",
       " -0.018234876915812492,\n",
       " 0.019295737147331238,\n",
       " 0.0015160355251282454,\n",
       " -0.00793456006795168,\n",
       " 0.014475508593022823,\n",
       " -0.06640514731407166,\n",
       " 0.009964236058294773,\n",
       " -0.041234035044908524,\n",
       " -0.05940232798457146,\n",
       " 0.02548200637102127,\n",
       " -0.03772260248661041,\n",
       " 0.026529742404818535,\n",
       " -0.003847355954349041,\n",
       " 0.029185781255364418,\n",
       " -9.265265543945134e-05,\n",
       " -0.05030716955661774,\n",
       " 0.02786232903599739,\n",
       " -0.001017809147015214,\n",
       " -0.05013890936970711,\n",
       " 0.008054384030401707,\n",
       " 0.015423447825014591,\n",
       " 0.026380158960819244,\n",
       " 0.010735839605331421,\n",
       " -0.015420900657773018,\n",
       " -0.010875582695007324,\n",
       " -0.0392134003341198,\n",
       " -0.023945316672325134,\n",
       " 0.37164968252182007,\n",
       " -0.033615291118621826,\n",
       " -0.0023127864114940166,\n",
       " -0.0009789557661861181,\n",
       " -0.05485709384083748,\n",
       " 0.037027206271886826,\n",
       " -0.02163114957511425,\n",
       " -0.014599576592445374,\n",
       " -0.032955002039670944,\n",
       " -0.04479275643825531,\n",
       " -0.006776047870516777,\n",
       " -0.015488849021494389,\n",
       " -0.014000040479004383,\n",
       " 0.024186214432120323,\n",
       " -0.03224592283368111,\n",
       " 0.016139928251504898,\n",
       " 0.021643953397870064,\n",
       " 0.048314034938812256,\n",
       " 0.01618555374443531,\n",
       " 0.03302542492747307,\n",
       " -0.030579272657632828,\n",
       " 0.005177330691367388,\n",
       " -0.015427759848535061,\n",
       " 0.043693140149116516,\n",
       " -0.031216008588671684,\n",
       " -0.05528755858540535,\n",
       " -0.03034653328359127,\n",
       " 0.035224683582782745,\n",
       " 0.06964283436536789,\n",
       " 0.05637072026729584,\n",
       " 0.03912649303674698,\n",
       " 0.06974783539772034,\n",
       " -0.024427734315395355,\n",
       " -0.06735995411872864,\n",
       " -0.014910037629306316,\n",
       " -0.037606555968523026,\n",
       " 0.02731236256659031,\n",
       " 0.029003240168094635,\n",
       " -0.015516591258347034,\n",
       " -0.05463408678770065,\n",
       " -0.01604430563747883,\n",
       " -0.07707471400499344,\n",
       " -0.0059083313681185246,\n",
       " 0.033449169248342514,\n",
       " -0.09238546341657639,\n",
       " -0.0025851610116660595,\n",
       " 0.11967155337333679,\n",
       " -0.07352454215288162,\n",
       " 0.03439005836844444,\n",
       " -0.0009603389189578593,\n",
       " -0.05572820454835892,\n",
       " 0.06860168278217316,\n",
       " -0.005674296990036964,\n",
       " 0.024885548278689384,\n",
       " -0.005408496130257845,\n",
       " 0.06765789538621902,\n",
       " -0.014826278202235699,\n",
       " 0.024833863601088524,\n",
       " -0.018042514100670815,\n",
       " -0.03523510321974754,\n",
       " 0.05486574023962021,\n",
       " -0.020732291042804718,\n",
       " -0.059827107936143875,\n",
       " -0.05708373710513115,\n",
       " 0.11481551826000214,\n",
       " 0.020255926996469498,\n",
       " -0.08864646404981613,\n",
       " -0.05637923628091812,\n",
       " -0.013975800015032291,\n",
       " -0.018496954813599586,\n",
       " 0.02578914538025856,\n",
       " 0.007277580443769693,\n",
       " 0.0038715889677405357,\n",
       " -0.02162172831594944,\n",
       " 0.024248097091913223,\n",
       " 0.02754976600408554,\n",
       " 0.005179253872483969,\n",
       " -0.04120172560214996,\n",
       " -0.011429925449192524,\n",
       " 0.007845968008041382,\n",
       " 0.05270932987332344,\n",
       " 0.04989106208086014,\n",
       " -0.08107725530862808,\n",
       " 0.025784216821193695,\n",
       " 0.0010454830480739474,\n",
       " -0.015445475466549397,\n",
       " -0.035674747079610825,\n",
       " 0.009580982849001884,\n",
       " -0.0309477336704731,\n",
       " 0.02927846647799015,\n",
       " 0.021026581525802612,\n",
       " -0.009083566255867481,\n",
       " 0.08420973271131516,\n",
       " -0.005156452301889658,\n",
       " -0.007377093657851219,\n",
       " -0.012545142322778702,\n",
       " -0.025680875405669212,\n",
       " 0.00594747718423605,\n",
       " -0.009964963421225548,\n",
       " -0.05481969192624092,\n",
       " -0.012985214591026306,\n",
       " -0.03829808533191681,\n",
       " 0.012209528125822544,\n",
       " 0.004729637876152992,\n",
       " 0.010113412514328957,\n",
       " 0.014356694184243679,\n",
       " -0.00842165295034647,\n",
       " -0.06358946859836578,\n",
       " 0.001225586049258709,\n",
       " 0.019901802763342857,\n",
       " 0.022348804399371147,\n",
       " -0.03148915618658066,\n",
       " -0.06180888041853905,\n",
       " 0.023138735443353653,\n",
       " 0.008334887214004993,\n",
       " 0.018875040113925934,\n",
       " -0.006239888723939657,\n",
       " 0.03124227747321129,\n",
       " -0.057986073195934296,\n",
       " 0.01750101149082184,\n",
       " 0.05623038858175278,\n",
       " 0.003420851891860366,\n",
       " -0.04189164936542511,\n",
       " -0.0651550218462944,\n",
       " -0.29094740748405457,\n",
       " 0.006742757745087147,\n",
       " 0.03579215332865715,\n",
       " -0.04953797534108162,\n",
       " -0.021673431620001793,\n",
       " -0.00713634118437767,\n",
       " 0.02868584915995598,\n",
       " -0.008562745526432991,\n",
       " 0.05246436595916748,\n",
       " 0.05939028412103653,\n",
       " 0.03804994747042656,\n",
       " -0.0412890762090683,\n",
       " 0.009245125576853752,\n",
       " 0.037451017647981644,\n",
       " -0.013190208934247494,\n",
       " 0.03452988341450691,\n",
       " 0.023127485066652298,\n",
       " 0.03518449142575264,\n",
       " -0.03544953837990761,\n",
       " 0.012708204798400402,\n",
       " -0.0022496546152979136,\n",
       " 0.02550407312810421,\n",
       " -0.012457701377570629,\n",
       " -0.06765153259038925,\n",
       " 0.012624816037714481,\n",
       " 0.007065687794238329,\n",
       " 0.218998521566391,\n",
       " 0.026133432984352112,\n",
       " 0.05033016577363014,\n",
       " -0.014080999419093132,\n",
       " 0.015288874506950378,\n",
       " 0.022441189736127853,\n",
       " 0.0064392914064228535,\n",
       " -0.06804673373699188,\n",
       " 0.031891223043203354,\n",
       " 0.018080705776810646,\n",
       " 0.0011844485998153687,\n",
       " 0.03738275170326233,\n",
       " -0.020684057846665382,\n",
       " -0.024875028058886528,\n",
       " -0.04053457826375961,\n",
       " 0.01665491797029972,\n",
       " 0.04222511500120163,\n",
       " -0.07407163083553314,\n",
       " -0.016655797138810158,\n",
       " -0.055400218814611435,\n",
       " -0.04348909854888916,\n",
       " 0.004419065546244383,\n",
       " -0.02204054407775402,\n",
       " 0.03286326304078102,\n",
       " 0.0022287697065621614,\n",
       " -0.0592733733355999,\n",
       " -0.01086046639829874,\n",
       " 0.033883702009916306,\n",
       " -0.010146010667085648,\n",
       " -0.018872059881687164,\n",
       " -0.013505542650818825,\n",
       " -0.03293432667851448,\n",
       " -0.00687883235514164,\n",
       " 0.040555186569690704,\n",
       " 0.06649869680404663,\n",
       " -0.0064740548841655254,\n",
       " 0.002932468196377158,\n",
       " -0.04576864093542099,\n",
       " 0.032076623290777206,\n",
       " 0.023485220968723297,\n",
       " -0.03248317167162895,\n",
       " -0.07228534668684006,\n",
       " 0.005958908703178167,\n",
       " -0.017159275710582733,\n",
       " -0.03619195148348808,\n",
       " 0.07551467418670654,\n",
       " 0.03393915295600891,\n",
       " -0.021365642547607422,\n",
       " 0.07292971014976501,\n",
       " 0.037950299680233,\n",
       " 0.06429759413003922,\n",
       " -0.002540932036936283,\n",
       " -0.060793690383434296,\n",
       " -0.003927272744476795,\n",
       " 0.07842683047056198,\n",
       " -0.011079007759690285,\n",
       " -0.0033206697553396225,\n",
       " 0.008964944630861282,\n",
       " 0.04215999320149422,\n",
       " 0.04001549631357193,\n",
       " 0.02754492126405239,\n",
       " -0.05602506920695305,\n",
       " 0.019666530191898346,\n",
       " -0.007016664836555719,\n",
       " 0.04171302169561386,\n",
       " -0.03616984188556671,\n",
       " -0.047626085579395294,\n",
       " 0.0054671321995556355,\n",
       " 0.04870281741023064,\n",
       " 0.00372592662461102,\n",
       " -0.2566996216773987,\n",
       " 0.05448959022760391,\n",
       " -0.0033773735631257296,\n",
       " 0.02664971351623535,\n",
       " -0.008796735666692257,\n",
       " -0.01273198239505291,\n",
       " 0.007567094173282385,\n",
       " -0.05153533071279526,\n",
       " -0.04888242110610008,\n",
       " -0.012898508459329605,\n",
       " -0.04110453277826309,\n",
       " 0.034224916249513626,\n",
       " 0.06937317550182343,\n",
       " 0.005044479388743639,\n",
       " -0.02004791982471943,\n",
       " 0.04743150994181633,\n",
       " 0.13630250096321106,\n",
       " 0.009438799694180489,\n",
       " 0.04137599468231201,\n",
       " -0.04608241468667984,\n",
       " -0.02646690234541893,\n",
       " 0.057885728776454926,\n",
       " 0.20392195880413055,\n",
       " -0.06354068219661713,\n",
       " -0.000594457087572664,\n",
       " -0.0272002425044775,\n",
       " -0.016226498410105705,\n",
       " -0.08802172541618347,\n",
       " 0.03792787343263626,\n",
       " 0.010423450730741024,\n",
       " 0.037825748324394226,\n",
       " 0.02025548554956913,\n",
       " 0.07142774760723114,\n",
       " -0.04852014780044556,\n",
       " 0.014154232107102871,\n",
       " 0.05078553035855293,\n",
       " 0.028844330459833145,\n",
       " -0.012992730364203453,\n",
       " -0.008438199758529663,\n",
       " -0.020968006923794746,\n",
       " 0.0039081573486328125,\n",
       " 0.016816793009638786,\n",
       " -0.0016670793993398547,\n",
       " 0.0025305470917373896,\n",
       " 0.05438514053821564,\n",
       " 0.04556391388177872,\n",
       " 0.00755410036072135,\n",
       " -0.01395526435226202,\n",
       " -0.023696813732385635,\n",
       " 0.03788772225379944,\n",
       " 0.032117560505867004,\n",
       " 0.008849482983350754,\n",
       " -0.059918999671936035,\n",
       " 0.010602210648357868,\n",
       " 0.043890632688999176,\n",
       " 0.03396783024072647,\n",
       " -0.007212155032902956,\n",
       " -0.0037021294701844454,\n",
       " -0.081660695374012,\n",
       " -0.0011077155359089375,\n",
       " -0.038081858307123184,\n",
       " -0.02553853951394558,\n",
       " 0.03370921313762665,\n",
       " 0.04100688546895981,\n",
       " 0.009109782055020332]"
      ]
     },
     "execution_count": 17,
     "metadata": {},
     "output_type": "execute_result"
    }
   ],
   "source": [
    "embeddings[0]"
   ]
  },
  {
   "cell_type": "code",
   "execution_count": 11,
   "id": "dea7b279-e55c-45bb-b56b-4b9039804924",
   "metadata": {
    "tags": []
   },
   "outputs": [
    {
     "name": "stdout",
     "output_type": "stream",
     "text": [
      "All Done!\n"
     ]
    }
   ],
   "source": [
    "print('All Done!')"
   ]
  },
  {
   "cell_type": "markdown",
   "id": "c96d8c9f-cb7a-429b-868a-dbea52e5c2a3",
   "metadata": {},
   "source": [
    "## Ingesting data to RDS"
   ]
  },
  {
   "cell_type": "markdown",
   "id": "a15b03f8-d991-4102-8f7a-444445e2d613",
   "metadata": {},
   "source": [
    "### Creating Connection"
   ]
  },
  {
   "cell_type": "code",
   "execution_count": 12,
   "id": "f1db8c3b-c179-4dab-a71c-12f0c8ec9f3b",
   "metadata": {
    "tags": []
   },
   "outputs": [],
   "source": [
    "from utils import create_connection, insert_data_into_database, get_secret\n",
    "\n",
    "secret_name = \"RDS-SECRET-NAME\"\n",
    "region = \"SECRET-REGION\"\n",
    "secret = get_secret(secret_name, region)"
   ]
  },
  {
   "cell_type": "code",
   "execution_count": 13,
   "id": "f46144c9-22b1-45d2-9ebf-76b363b68f63",
   "metadata": {
    "tags": []
   },
   "outputs": [
    {
     "data": {
      "text/plain": [
       "<knowledgeBase2.DatabaseManager at 0x7f461ec43a60>"
      ]
     },
     "execution_count": 13,
     "metadata": {},
     "output_type": "execute_result"
    }
   ],
   "source": [
    "auth = {\n",
    "    \"host\": 'DB-ENDPOINT',\n",
    "    \"port\": 'DB-PORT',\n",
    "    \"database\": 'DB-NAME',\n",
    "    \"user\": secret['username'],\n",
    "    \"password\": secret['password']\n",
    "}\n",
    "\n",
    "create_connection(auth)"
   ]
  },
  {
   "cell_type": "markdown",
   "id": "1fb6fa01-fcf4-4e17-9031-9265938fcf41",
   "metadata": {},
   "source": [
    "### Ingesting Data"
   ]
  },
  {
   "cell_type": "code",
   "execution_count": 14,
   "id": "397f5a6e-e473-4003-a6c2-906e7964740b",
   "metadata": {
    "tags": []
   },
   "outputs": [
    {
     "name": "stdout",
     "output_type": "stream",
     "text": [
      "Data inserted successfully.\n"
     ]
    }
   ],
   "source": [
    "metadata = {\"file_location\": \"docs/2304.02643.pdf\"}\n",
    "course_name = 'Course102' ## Filter criterea\n",
    "\n",
    "insert_data_into_database(chunks, embeddings, metadata, course_name)"
   ]
  },
  {
   "cell_type": "markdown",
   "id": "29a3d80a-affd-4c1f-9957-1cb936d96121",
   "metadata": {},
   "source": [
    "## Creating a Chatbot"
   ]
  },
  {
   "cell_type": "code",
   "execution_count": 21,
   "id": "3c7c20d3-988b-45a6-9fd7-7b6e02a846d0",
   "metadata": {
    "tags": []
   },
   "outputs": [],
   "source": [
    "from utils import chatbot\n",
    "\n",
    "query = 'where can I find organic potatoes'\n",
    "# query = 'Segment Anything Task'\n",
    "course = 'Course102'\n",
    "# course = 'Course101'\n",
    "\n",
    "Response = chatbot(query, course)"
   ]
  },
  {
   "cell_type": "code",
   "execution_count": 22,
   "id": "41703dba-f231-44ee-bb52-44ac65ad9033",
   "metadata": {
    "tags": []
   },
   "outputs": [
    {
     "data": {
      "text/plain": [
       "' Unfortunately I do not see any information directly related to where one can find organic potatoes. The passages discuss various image segmentation datasets, regularization methods, zooplankton biomass measurements, iterative segmentation training, database statistics, synthetic indoor scene datasets, parking lot vehicle segmentation, hand-object segmentation, etc. There is no mention of organic potatoes or where to find them.'"
      ]
     },
     "execution_count": 22,
     "metadata": {},
     "output_type": "execute_result"
    }
   ],
   "source": [
    "Response['Chat']"
   ]
  },
  {
   "cell_type": "code",
   "execution_count": 23,
   "id": "5d45bc53-d085-47be-968b-21533332957c",
   "metadata": {
    "tags": []
   },
   "outputs": [
    {
     "data": {
      "text/plain": [
       "[('released SA-1B.\\nCropping. Masks were generated from a regular grid of\\n32\\x0232 points on the full image and 20 additional zoomed-\\nin image crops arising from 2 \\x022 and 4\\x024 partially over-\\nlapping windows using 16 \\x0216 and 8\\x028 regular point grids,\\nrespectively. The original high-resolution images were used\\nfor cropping (this was the only time we used them). We re-\\nmoved masks that touch the inner boundaries of the crops.\\nWe applied standard greedy box-based NMS (boxes were\\nused for efﬁciency) in two phases: ﬁrst within each crop and\\nsecond across crops. When applying NMS within a crop,\\nwe used the model’s predicted IoU to rank masks. When\\napplying NMS across crops, we ranked masks from most\\nzoomed-in ( i.e., from a 4\\x024 crop) to least zoomed-in ( i.e.,\\nthe original image), based on their source crop. In both\\ncases, we used an NMS threshold of 0.7.\\nFiltering. We used three ﬁlters to increase mask qual-\\nity. First, to keep only conﬁdent masks we ﬁltered by the\\nmodel’s predicted IoU score at a',),\n",
       " ('no Furnari, Rohit Girdhar, Jackson Hamburger,\\nHao Jiang, Miao Liu, Xingyu Liu, Miguel Martin, Tushar Na-\\ngarajan, Ilija Radosavovic, Santhosh Kumar Ramakrishnan, Fiona\\nRyan, Jayant Sharma, Michael Wray, Mengmeng Xu, Eric Zhong-\\ncong Xu, Chen Zhao, Siddhant Bansal, Dhruv Batra, Vincent Car-\\ntillier, Sean Crane, Tien Do, Morrie Doulaty, Akshay Erapalli,\\nChristoph Feichtenhofer, Adriano Fragomeni, Qichen Fu, Chris-\\ntian Fuegen, Abrham Gebreselasie, Cristina Gonzalez, James Hillis,\\nXuhua Huang, Yifei Huang, Wenqi Jia, Weslie Khoo, Jachym Ko-\\nlar, Satwik Kottur, Anurag Kumar, Federico Landini, Chao Li,\\nYanghao Li, Zhenqiang Li, Karttikeya Mangalam, Raghava Mod-\\nhugu, Jonathan Munro, Tullie Murrell, Takumi Nishiyasu, Will\\nPrice, Paola Ruiz Puentes, Merey Ramazanova, Leda Sari, Kiran\\nSomasundaram, Audrey Southerland, Yusuke Sugano, Ruijie Tao,\\nMinh V o, Yuchen Wang, Xindi Wu, Takuma Yagi, Yunyi Zhu,\\nPablo Arbelaez, David Crandall, Dima Damen, Giovanni Maria\\nFarinella, Bernard Ghanem, Vamsi',),\n",
       " ('datasetabbreviation\\n& linkimage\\ntypedescriptionmask\\ntypesource split# images\\nsampled# masks\\nsampled\\nPlant Phenotyping Datasets\\nLeaf Segmentation [74]PPDLS Plants Leaf segmentation for images of tobacco and ara plants. Instance N/A 182 2347\\nBBBC038v1 from Broad\\nBioimage Benchmark\\nCollection [12]BBBC038v1 MicroscopyBiological images of cells in a variety of settings testing\\nrobustness in nuclei segmentation.Instance Train 227 10506\\nDataset fOr bOuldeRs\\nSegmentation [80]DOORS BouldersSegmentation masks of single boulders positioned on the\\nsurface of a spherical mesh.Instance DS1 10000 10000\\nTimberSeg 1.0 [38] TimberSeg LogsSegmentation masks of individual logs in piles of timber in\\nvarious environments and conditions. Images are taken from\\nan operator’s point-of-view.Instance N/A 220 2487\\nNorthumberland Dolphin\\nDataset 2020 [100]NDD20 UnderwaterSegmentation masks of two different dolphin species in\\nimages taken above and under water.Instance N/A 4402 6100\\nLarge V ocabulary',),\n",
       " ('utter. Decoupled weight decay regu-\\nlarization. ICLR , 2019. 17\\n[69] Cathy H Lucas, Daniel OB Jones, Catherine J Hollyhead, Robert H\\nCondon, Carlos M Duarte, William M Graham, Kelly L Robinson,\\nKylie A Pitt, Mark Schildhauer, and Jim Regetz. Gelatinous zoo-\\nplankton biomass in the global oceans: geographic variation and\\nenvironmental drivers. Global Ecology and Biogeography , 2014.\\n20\\n[70] Sabarinath Mahadevan, Paul V oigtlaender, and Bastian Leibe. Iter-\\natively trained interactive segmentation. BMVC , 2018. 4, 17\\n[71] Kevis-Kokitsi Maninis, Sergi Caelles, Jordi Pont-Tuset, and Luc\\nVan Gool. Deep extreme cut: From extreme points to object seg-\\nmentation. CVPR , 2018. 6\\n[72] David Martin, Charless Fowlkes, Doron Tal, and Jitendra Malik.\\nA database of human segmented natural images and its applica-\\ntion to evaluating segmentation algorithms and measuring ecologi-\\ncal statistics. ICCV , 2001. 10, 21, 28\\n[73] Fausto Milletari, Nassir Navab, and Seyed-Ahmad Ahmadi. V-Net:\\nFully',),\n",
       " ('ks in videos, focusing on objects\\nthat are occluded.Instance Train 2044 10011\\nHypersim [86] Hypersim SimulationPhotorealistic synthetic dataset of indoor scenes with instance\\nmasks.InstanceEvermotion archinteriors\\nvolumes 1-55 excluding\\n20,25,40,49338 9445\\nNight and Day Instance\\nSegmented Park [22, 23]NDISPark Parking lotsImages of parking lots from video footage taken at day and\\nnight during different weather conditions and camera angles\\nfor vehicle segmentation.Instance Train 111 2577\\nEPIC-KITCHENS\\nVISOR [28, 27]VISOR EgocentricSegmentation masks for hands and active objects in\\nego-centric video from the cooking dataset\\nEPIC-KITCHENS [27].Instance Validation 1864 10141\\nPlittersdorf dataset [46] PlittersdorfStereo\\nimagesSegmentation masks of wildlife in images taken with the\\nSOCRATES stereo camera trap.Instance Train, validation, test 187 546\\nEgocentric Hand-Object\\nSegmentation [113]EgoHOS EgocentricFine-grained egocentric hand-object segmentation dataset.\\nDataset contains mask',)]"
      ]
     },
     "execution_count": 23,
     "metadata": {},
     "output_type": "execute_result"
    }
   ],
   "source": [
    "Response['Documents']"
   ]
  },
  {
   "cell_type": "code",
   "execution_count": null,
   "id": "78b8a73e-c100-4c0f-8a25-5abafef1f5ee",
   "metadata": {},
   "outputs": [],
   "source": []
  }
 ],
 "metadata": {
  "kernelspec": {
   "display_name": "conda_pytorch_p310",
   "language": "python",
   "name": "conda_pytorch_p310"
  },
  "language_info": {
   "codemirror_mode": {
    "name": "ipython",
    "version": 3
   },
   "file_extension": ".py",
   "mimetype": "text/x-python",
   "name": "python",
   "nbconvert_exporter": "python",
   "pygments_lexer": "ipython3",
   "version": "3.10.13"
  }
 },
 "nbformat": 4,
 "nbformat_minor": 5
}
